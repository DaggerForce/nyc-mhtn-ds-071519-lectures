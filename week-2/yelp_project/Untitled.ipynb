{
 "cells": [
  {
   "cell_type": "code",
   "execution_count": 73,
   "metadata": {},
   "outputs": [],
   "source": [
    "import config\n",
    "import mysql.connector\n",
    "import requests\n",
    "import time\n",
    "import yelp_config\n",
    "import json"
   ]
  },
  {
   "cell_type": "code",
   "execution_count": 74,
   "metadata": {},
   "outputs": [],
   "source": [
    "client_id = yelp_config.my_id\n",
    "api_key = yelp_config.api"
   ]
  },
  {
   "cell_type": "code",
   "execution_count": null,
   "metadata": {},
   "outputs": [],
   "source": [
    "### business params and url\n",
    "def yelp_call(url_params, api_key):\n",
    "    url = 'https://api.yelp.com/v3/businesses/search'\n",
    "    headers = {'Authorization': 'Bearer {}'.format(api_key)}\n",
    "    response = requests.get(url, headers=headers, params=url_params)\n",
    "\n",
    "    data = response.json()['businesses']\n",
    "    return data\n",
    "\n",
    "\n",
    "def all_results(url_params, api_key):\n",
    "    url = 'https://api.yelp.com/v3/businesses/search'\n",
    "    headers = {'Authorization': 'Bearer {}'.format(api_key)}\n",
    "    response = requests.get(url, headers=headers, params=url_params)\n",
    "    num = response.json()['total']\n",
    "    print('{} total matches found.'.format(num))\n",
    "    cur = 0\n",
    "    results = []\n",
    "    while cur < num and cur < 50:\n",
    "        url_params['offset'] = cur\n",
    "        results.append(yelp_call(url_params, api_key))\n",
    "        time.sleep(1)  # Wait a second\n",
    "        cur += 50\n",
    "    print('all_results worked')\n",
    "    return results\n",
    "\n",
    "\n",
    "term = 'burgers'\n",
    "location = 'Brooklyn NY'\n",
    "url_params = {'term': term.replace(' ', '+'),\n",
    "              'location': location.replace(' ', '+'),\n",
    "              'limit': 50\n",
    "              }\n",
    "\n",
    "#raw_business_data = all_results(url_params, api_key)"
   ]
  },
  {
   "cell_type": "code",
   "execution_count": 105,
   "metadata": {},
   "outputs": [
    {
     "name": "stdout",
     "output_type": "stream",
     "text": [
      "[{'id': 'dkAj-3gmkvdA4XkJmw6hCw', 'name': \"Juanchi's Burger\", 'rating': 4.5, 'price': '$$'}, {'id': 'Jy6qxXks0w5Wmurzu7rmBQ', 'name': '212 Burgers', 'rating': 4.5, 'price': '$$'}]\n"
     ]
    }
   ],
   "source": [
    "#extracting business and skimmed the data the I need\n",
    "def datum_dict(business_dict):\n",
    "    ''' this function receives a dictionary with all the yelp keys and returns\n",
    "        a new dictionary with only the name, id, rating and price. and a dictionary with only the business keys'''\n",
    "    data_dict = {}\n",
    "    for k, v in business_dict.items():\n",
    "        if k == 'id':\n",
    "            data_dict[k] = v\n",
    "        elif k == 'name':\n",
    "            data_dict[k] = v\n",
    "        elif k == 'rating':\n",
    "            data_dict[k] = v\n",
    "        elif k == 'price':\n",
    "            data_dict[k] = v\n",
    "    return data_dict\n",
    "\n",
    "def get_dict_from_data(dict_list):\n",
    "    '''this function returns a a dictionary from a list of dictionary'''\n",
    "    business_list = []\n",
    "    for a_list in dict_list:\n",
    "        for business in a_list:\n",
    "            try:\n",
    "                business_list.append(datum_dict(business))\n",
    "            except:\n",
    "                cbusiness_listontinue\n",
    "    return business_list\n",
    "\n",
    "# get list of all the businesses dictionary's\n",
    "skim_business_data = get_dict_from_data(raw_business_data)\n",
    "two = skim_business_data[:2]\n",
    "print(two)"
   ]
  },
  {
   "cell_type": "code",
   "execution_count": 107,
   "metadata": {},
   "outputs": [
    {
     "name": "stdout",
     "output_type": "stream",
     "text": [
      "{'id': 'JRCYCUMpYWZnR_e-_AIK-A', 'url': 'https://www.yelp.com/biz/juanchis-burger-brooklyn?adjust_creative=KcsTlt_o2HYJz1wDnNimtg&hrid=JRCYCUMpYWZnR_e-_AIK-A&utm_campaign=yelp_api_v3&utm_medium=api_v3_business_reviews&utm_source=KcsTlt_o2HYJz1wDnNimtg', 'text': \"Made a Yelp reservation for Saturday at 6:45pm. They had a table blocked off for us with a 'reserved' sign. That was nice! Place is kind of small, maybe...\", 'rating': 5, 'time_created': '2019-07-22 08:39:35', 'user': {'id': 'eoxP7LZmxINRAmXWhsq8ww', 'profile_url': 'https://www.yelp.com/user_details?userid=eoxP7LZmxINRAmXWhsq8ww', 'image_url': 'https://s3-media3.fl.yelpcdn.com/photo/dFuyYgUInpaC1D_9DlB-SA/o.jpg', 'name': 'Meghan R.'}}\n",
      "{'id': 'bnsrQSIc_2OJQdbVkCtTJg', 'url': 'https://www.yelp.com/biz/juanchis-burger-brooklyn?adjust_creative=KcsTlt_o2HYJz1wDnNimtg&hrid=bnsrQSIc_2OJQdbVkCtTJg&utm_campaign=yelp_api_v3&utm_medium=api_v3_business_reviews&utm_source=KcsTlt_o2HYJz1wDnNimtg', 'text': 'We were craving burgers and luckily found this gem just a short walk from the waterfront / Domino Park. Of all the problems in the world, one of the only...', 'rating': 5, 'time_created': '2019-07-17 18:05:21', 'user': {'id': 'fvvC0gjmotvpQIYTf0oQjQ', 'profile_url': 'https://www.yelp.com/user_details?userid=fvvC0gjmotvpQIYTf0oQjQ', 'image_url': 'https://s3-media2.fl.yelpcdn.com/photo/UfyljszRmTkFUKVlT3uvlQ/o.jpg', 'name': 'Yani O.'}}\n",
      "{'id': 'bVixGgma5UV468VODCGAug', 'url': 'https://www.yelp.com/biz/juanchis-burger-brooklyn?adjust_creative=KcsTlt_o2HYJz1wDnNimtg&hrid=bVixGgma5UV468VODCGAug&utm_campaign=yelp_api_v3&utm_medium=api_v3_business_reviews&utm_source=KcsTlt_o2HYJz1wDnNimtg', 'text': \"Definitely one of the best burger places I've tried around the city. Came without a reservation on a Friday night around 8, waited around 20 minutes without...\", 'rating': 5, 'time_created': '2019-06-27 11:15:11', 'user': {'id': 'zJp6um8sxHAfB6Fbih86CQ', 'profile_url': 'https://www.yelp.com/user_details?userid=zJp6um8sxHAfB6Fbih86CQ', 'image_url': 'https://s3-media2.fl.yelpcdn.com/photo/7T5d-5rB94SkaLK_9gMO7Q/o.jpg', 'name': 'Lolin L.'}}\n",
      "{'id': 'AwCWFrv-lLNtRdfPLa96LA', 'url': 'https://www.yelp.com/biz/212-burgers-brooklyn-2?adjust_creative=KcsTlt_o2HYJz1wDnNimtg&hrid=AwCWFrv-lLNtRdfPLa96LA&utm_campaign=yelp_api_v3&utm_medium=api_v3_business_reviews&utm_source=KcsTlt_o2HYJz1wDnNimtg', 'text': \"I ordered a burger with an egg on it and I couldn't of been more pleased. Finding a good burger delivery in this neighborhood has been a challenge. I don't...\", 'rating': 5, 'time_created': '2019-03-12 12:17:14', 'user': {'id': 'UcxL3QminspoPx_hjrQigQ', 'profile_url': 'https://www.yelp.com/user_details?userid=UcxL3QminspoPx_hjrQigQ', 'image_url': 'https://s3-media1.fl.yelpcdn.com/photo/u284b0H97q0ECwRkcO0zeg/o.jpg', 'name': 'Natalie Venus De H.'}}\n",
      "{'id': '9Lf1YEalxW4q_xS7ugP4OQ', 'url': 'https://www.yelp.com/biz/212-burgers-brooklyn-2?adjust_creative=KcsTlt_o2HYJz1wDnNimtg&hrid=9Lf1YEalxW4q_xS7ugP4OQ&utm_campaign=yelp_api_v3&utm_medium=api_v3_business_reviews&utm_source=KcsTlt_o2HYJz1wDnNimtg', 'text': \"This is a great place to grab some burgers. The decor and atmosphere are chill and doesn't feel anything like a fast food place. 212 Burgers got everything...\", 'rating': 5, 'time_created': '2019-07-18 17:07:00', 'user': {'id': 'o5Gw-CP0Jd0KrhA9ixfYGw', 'profile_url': 'https://www.yelp.com/user_details?userid=o5Gw-CP0Jd0KrhA9ixfYGw', 'image_url': 'https://s3-media3.fl.yelpcdn.com/photo/e5BJYg26QeJfz1ZQo1MwIQ/o.jpg', 'name': 'Christina M.'}}\n",
      "{'id': 'YJFQVcZAee6Xe4QXsLqweA', 'url': 'https://www.yelp.com/biz/212-burgers-brooklyn-2?adjust_creative=KcsTlt_o2HYJz1wDnNimtg&hrid=YJFQVcZAee6Xe4QXsLqweA&utm_campaign=yelp_api_v3&utm_medium=api_v3_business_reviews&utm_source=KcsTlt_o2HYJz1wDnNimtg', 'text': 'They were delicious at the prior location, and have not skipped a beat at the new location. We often get the lettuce wrap, and it is perfectly wrapped....', 'rating': 5, 'time_created': '2019-04-25 17:21:22', 'user': {'id': 'omxDPQWmJK_lQy0rdaES2A', 'profile_url': 'https://www.yelp.com/user_details?userid=omxDPQWmJK_lQy0rdaES2A', 'image_url': 'https://s3-media1.fl.yelpcdn.com/photo/3_8mEbRo2VnjQ2Fzx6kXcg/o.jpg', 'name': 'Sarah K.'}}\n"
     ]
    }
   ],
   "source": [
    "def get_reviews(biz_id):\n",
    "    url = \"https://api.yelp.com/v3/businesses/{}/reviews\".format(biz_id)\n",
    "    headers = {'Authorization': 'Bearer {}'.format(yelp_config.api)}\n",
    "    response = requests.get(url, headers=headers, params=url_params)\n",
    "    data = response.json()['reviews']\n",
    "    return data\n",
    "\n",
    "def get_all_reviews(b_ids):\n",
    "    reviews = []\n",
    "    for b_id in b_ids:\n",
    "        try:\n",
    "            reviews.append(get_one_review(b_id))\n",
    "        except:\n",
    "            print(f'failed to get the review for {b_id}')\n",
    "    return reviews\n",
    "\n",
    "def create_review_structure(business_dict):\n",
    "    ids_list = []\n",
    "    for biz in business_dict:\n",
    "        ids_list.append(biz['id'])\n",
    "    \n",
    "    reviews_list = []\n",
    "    \n",
    "    for an_id in ids_list:\n",
    "        skimmed_reviews = {}\n",
    "        full_reviews = get_reviews(an_id)\n",
    "        for every_review in full_reviews:\n",
    "            print(every_review)\n",
    "            skimmed_reviews['review_id'] = every_review['id']\n",
    "            skimmed_reviews['time_created'] = every_review['time_created']\n",
    "            skimmed_reviews['business_id'] = an_id\n",
    "            reviews_list.append(skimmed_reviews)\n",
    "            \n",
    "        \n",
    "    return reviews_list\n",
    "skim_review_data = create_review_structure(two)"
   ]
  },
  {
   "cell_type": "code",
   "execution_count": 94,
   "metadata": {},
   "outputs": [
    {
     "name": "stdout",
     "output_type": "stream",
     "text": [
      "[{'review_id': 'hLSb6MUv3-P-3Cd0ZptajA', 'time_created': '2019-05-25 06:44:00', 'business_id': '-0bdnX762vdTb9lI00etvA'}, {'review_id': 'hLSb6MUv3-P-3Cd0ZptajA', 'time_created': '2019-05-25 06:44:00', 'business_id': '-0bdnX762vdTb9lI00etvA'}, {'review_id': 'hLSb6MUv3-P-3Cd0ZptajA', 'time_created': '2019-05-25 06:44:00', 'business_id': '-0bdnX762vdTb9lI00etvA'}, {'review_id': 'hLSb6MUv3-P-3Cd0ZptajA', 'time_created': '2019-05-25 06:44:00', 'business_id': '-0bdnX762vdTb9lI00etvA'}, {'review_id': 'hLSb6MUv3-P-3Cd0ZptajA', 'time_created': '2019-05-25 06:44:00', 'business_id': '-0bdnX762vdTb9lI00etvA'}, {'review_id': 'hLSb6MUv3-P-3Cd0ZptajA', 'time_created': '2019-05-25 06:44:00', 'business_id': '-0bdnX762vdTb9lI00etvA'}, {'review_id': 'hLSb6MUv3-P-3Cd0ZptajA', 'time_created': '2019-05-25 06:44:00', 'business_id': '-0bdnX762vdTb9lI00etvA'}, {'review_id': 'hLSb6MUv3-P-3Cd0ZptajA', 'time_created': '2019-05-25 06:44:00', 'business_id': '-0bdnX762vdTb9lI00etvA'}, {'review_id': 'hLSb6MUv3-P-3Cd0ZptajA', 'time_created': '2019-05-25 06:44:00', 'business_id': '-0bdnX762vdTb9lI00etvA'}]\n"
     ]
    }
   ],
   "source": [
    "print(skim_review_data)\n",
    "# create business query, add the data and commit query\n",
    "# connecting my db and start inserting data into it\n",
    "cnx = mysql.connector.connect(\n",
    "    host=config.host,\n",
    "    user=config.user,\n",
    "    passwd=config.password,\n",
    "    database=config.DB_NAME\n",
    ")\n",
    "cursor = cnx.cursor()\n",
    "add_review = (\"INSERT INTO business \"\n",
    "              \"(review_id, time_created, business_id) \"\n",
    "              \"VALUES (%s, %s, %s)\")\n",
    "\n",
    "def convert_to_tuple(skim_review_data):\n",
    "    try:\n",
    "        datum = (skim_review_data['review_id'], skim_review_data['time_created'],\n",
    "                 skim_review_data['business_id'])\n",
    "        \n",
    "\n",
    "    except:\n",
    "        print(f'unable to create tuple for {skim_review_data}')\n",
    "    return datum\n",
    "              \n",
    "def create_data(business_data):\n",
    "    data = []\n",
    "    for biz_dict in business_data:\n",
    "        data.append(convert_to_tuple(biz_dict))\n",
    "    return data\n",
    "\n",
    "converted_data = create_data(skim_review_data)\n",
    "              \n",
    "              \n",
    "def db_insertion(query, data):\n",
    "    for datum in data:\n",
    "        try:\n",
    "            cursor.execute(query, datum)\n",
    "            cnx.commit()\n",
    "            print('great success!')\n",
    "        except:\n",
    "            pass\n",
    "    return\n",
    "              \n",
    "db_insertion(add_review, converted_data)              \n",
    "# Make sure data is committed to the database\n",
    "cnx.commit()\n",
    "# make sure the connection is closed.\n",
    "cursor.close()\n",
    "cnx.close()"
   ]
  },
  {
   "cell_type": "code",
   "execution_count": null,
   "metadata": {},
   "outputs": [],
   "source": []
  }
 ],
 "metadata": {
  "kernelspec": {
   "display_name": "Python 3",
   "language": "python",
   "name": "python3"
  },
  "language_info": {
   "codemirror_mode": {
    "name": "ipython",
    "version": 3
   },
   "file_extension": ".py",
   "mimetype": "text/x-python",
   "name": "python",
   "nbconvert_exporter": "python",
   "pygments_lexer": "ipython3",
   "version": "3.7.2"
  }
 },
 "nbformat": 4,
 "nbformat_minor": 2
}
