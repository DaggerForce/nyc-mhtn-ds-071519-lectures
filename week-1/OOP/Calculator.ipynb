{
 "cells": [
  {
   "cell_type": "code",
   "execution_count": 133,
   "metadata": {},
   "outputs": [],
   "source": [
    "class Calculator:\n",
    "    def __init__(self, data):\n",
    "        import math\n",
    "        self.data = data\n",
    "        self.length = len(data) #self.data\n",
    "        self.__update_stats()\n",
    "    \n",
    "    def __update_stats(self):  \n",
    "        self.mean = self.calc_mean()\n",
    "        self.median = self.calc_median()\n",
    "        self.variance = self.calc_var()\n",
    "        self.standev = self.calc_std()\n",
    "        \n",
    "    def calc_mean(self):\n",
    "        n = self.length\n",
    "        total = sum(self.data)\n",
    "        return total/n\n",
    "    \n",
    "    def calc_median(self):\n",
    "        self.data.sort()\n",
    "        n = int(self.length)\n",
    "        # if the list of numbers has odd numbers\n",
    "        median = self.data[round(n/2)]\n",
    "        # if the list has an even number\n",
    "        if n % 2 == 0:\n",
    "            down = self.data[int(n/2-1)]\n",
    "            up = self.data[int(n/2)]\n",
    "            median = (up + down)/2\n",
    "        return median\n",
    "    \n",
    "    def calc_var(self):\n",
    "        # get the mean\n",
    "        n = self.length\n",
    "        mean = self.mean\n",
    "        # substract each value from the mean and raise the value power of 2\n",
    "        variance  = list(map(lambda x: (x-mean)**2/(n-1) ,self.data))\n",
    "        var_sum = sum(variance)\n",
    "        return var_sum\n",
    "    \n",
    "    def calc_std(self): \n",
    "        return self.variance**0.5\n",
    "    \n",
    "    def add_data(self, numbers):\n",
    "        if type(numbers) == list:\n",
    "            self.data.extend(numbers)\n",
    "        else:\n",
    "            self.data.append(numbers)\n",
    "        self.__update_stats()\n",
    "        return\n",
    "    \n",
    "    def remove_data(self, index):\n",
    "        del self.data[index]\n",
    "        self.__update_stats()\n",
    "        return \n",
    "        "
   ]
  },
  {
   "cell_type": "code",
   "execution_count": 135,
   "metadata": {},
   "outputs": [
    {
     "name": "stdout",
     "output_type": "stream",
     "text": [
      "2.5\n",
      "1.75\n"
     ]
    },
    {
     "data": {
      "text/plain": [
       "[1, 2, 4]"
      ]
     },
     "execution_count": 135,
     "metadata": {},
     "output_type": "execute_result"
    }
   ],
   "source": [
    "calc = Calculator([1, 2, 3, 4])\n",
    "print(calc.mean)\n",
    "calc.remove_data(2)\n",
    "print(calc.mean)\n",
    "calc.data"
   ]
  },
  {
   "cell_type": "code",
   "execution_count": null,
   "metadata": {},
   "outputs": [],
   "source": []
  }
 ],
 "metadata": {
  "kernelspec": {
   "display_name": "Python 3",
   "language": "python",
   "name": "python3"
  },
  "language_info": {
   "codemirror_mode": {
    "name": "ipython",
    "version": 3
   },
   "file_extension": ".py",
   "mimetype": "text/x-python",
   "name": "python",
   "nbconvert_exporter": "python",
   "pygments_lexer": "ipython3",
   "version": "3.7.2"
  }
 },
 "nbformat": 4,
 "nbformat_minor": 2
}
